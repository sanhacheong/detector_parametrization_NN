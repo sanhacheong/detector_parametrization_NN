{
 "cells": [
  {
   "cell_type": "code",
   "execution_count": 4,
   "metadata": {},
   "outputs": [],
   "source": [
    "import numpy as np\n",
    "import scipy as sp\n",
    "import scipy.stats as stt\n",
    "import matplotlib.pyplot as plt\n",
    "from matplotlib.ticker import FuncFormatter\n",
    "plt.rcParams['figure.figsize'] = [12, 8]\n",
    "plt.rcParams['font.size'] = 18\n",
    "\n",
    "mpl_color = plt.rcParams['axes.prop_cycle'].by_key()['color']\n",
    "\n",
    "%load_ext autoreload\n",
    "%autoreload 2"
   ]
  },
  {
   "cell_type": "markdown",
   "metadata": {},
   "source": [
    "## Application to a Gaussian case, using jet dataset parameters"
   ]
  },
  {
   "cell_type": "code",
   "execution_count": 23,
   "metadata": {},
   "outputs": [],
   "source": [
    "x_min, x_max = 20, 60\n",
    "E_min = -1000"
   ]
  },
  {
   "cell_type": "code",
   "execution_count": 24,
   "metadata": {},
   "outputs": [],
   "source": [
    "def mu(x, x0):\n",
    "    return x + 5*np.log(np.exp(x0/10) + np.exp(x/10)) - 5*np.log(1+np.exp((x0+x)/10))\n",
    "\n",
    "x0 = 25"
   ]
  },
  {
   "cell_type": "code",
   "execution_count": 25,
   "metadata": {},
   "outputs": [],
   "source": [
    "def sigma(x, N, S, C):\n",
    "    return np.sqrt(N**2 + x*S**2 + (C*x)**2)\n",
    "\n",
    "N = 4\n",
    "S = 0.6\n",
    "C = 0.05"
   ]
  },
  {
   "cell_type": "code",
   "execution_count": 130,
   "metadata": {},
   "outputs": [],
   "source": [
    "N_data = int(5e5)\n",
    "N_gen = int(1.2 * N_data)"
   ]
  },
  {
   "cell_type": "code",
   "execution_count": 131,
   "metadata": {},
   "outputs": [],
   "source": [
    "np.random.seed(789)\n",
    "\n",
    "x_data = stt.uniform.rvs(loc=x_min, scale=x_max-x_min, size=N_gen)\n",
    "z_data = np.random.randn(N_gen)\n",
    "y_data = z_data * sigma(x_data, N, S, C) + mu(x_data, x0)"
   ]
  },
  {
   "cell_type": "code",
   "execution_count": 132,
   "metadata": {},
   "outputs": [],
   "source": [
    "x_data = x_data[:N_data]\n",
    "y_data = y_data[:N_data]"
   ]
  },
  {
   "cell_type": "code",
   "execution_count": 45,
   "metadata": {},
   "outputs": [
    {
     "data": {
      "image/png": "[encoded data removed]",
      "text/plain": [
       "<matplotlib.figure.Figure at 0x101943d30>"
      ]
     },
     "metadata": {},
     "output_type": "display_data"
    }
   ],
   "source": [
    "n_plot = 300\n",
    "\n",
    "plt.scatter(x_data[:n_plot], y_data[:n_plot],c='k', alpha=0.3, marker='x', label=\"MC Samples\")\n",
    "plt.xlim([x_min, x_max])\n",
    "plt.xlabel(r\"True Jet Energy $x$ [GeV]\")\n",
    "plt.ylabel(r\"Reco. Jet Energy $y$ [GeV]\")\n",
    "plt.grid()\n",
    "\n",
    "plt.show()"
   ]
  },
  {
   "cell_type": "markdown",
   "metadata": {},
   "source": [
    "## Train NN's"
   ]
  },
  {
   "cell_type": "code",
   "execution_count": 47,
   "metadata": {},
   "outputs": [
    {
     "name": "stdout",
     "output_type": "stream",
     "text": [
      "Using Keras version: 2.2.4\n"
     ]
    }
   ],
   "source": [
    "import keras\n",
    "\n",
    "import keras.backend as K\n",
    "\n",
    "from keras.models import Sequential\n",
    "from keras.layers import Dense, Activation, Dropout, ReLU, ELU, PReLU\n",
    "from keras.callbacks import ModelCheckpoint\n",
    "\n",
    "print(\"Using Keras version:\", keras.__version__)"
   ]
  },
  {
   "cell_type": "code",
   "execution_count": 52,
   "metadata": {},
   "outputs": [],
   "source": [
    "def scale(data, loc, scale):\n",
    "    return (data - loc) / scale\n",
    "\n",
    "def back_scale(data, loc, scale):\n",
    "    return data * scale + loc"
   ]
  },
  {
   "cell_type": "code",
   "execution_count": 133,
   "metadata": {},
   "outputs": [],
   "source": [
    "x_data = np.vstack((x_data, x_data**3)).T"
   ]
  },
  {
   "cell_type": "code",
   "execution_count": 134,
   "metadata": {},
   "outputs": [],
   "source": [
    "x_loc, x_scale = np.mean(x_data, axis=0), np.std(x_data, axis=0)\n",
    "y_loc, y_scale = np.mean(y_data), np.std(y_data)\n",
    "y2_loc, y2_scale = np.mean(y_data*y_data), np.std(y_data*y_data)"
   ]
  },
  {
   "cell_type": "markdown",
   "metadata": {},
   "source": [
    "### Standard Deviation-learning NN"
   ]
  },
  {
   "cell_type": "code",
   "execution_count": 135,
   "metadata": {},
   "outputs": [
    {
     "name": "stdout",
     "output_type": "stream",
     "text": [
      "Epoch 1/10\n",
      "500000/500000 [==============================] - 2s 3us/step - loss: 0.5138\n",
      "Epoch 2/10\n",
      "500000/500000 [==============================] - 1s 1us/step - loss: 0.3174\n",
      "Epoch 3/10\n",
      "500000/500000 [==============================] - 1s 1us/step - loss: 0.2601\n",
      "Epoch 4/10\n",
      "500000/500000 [==============================] - 1s 2us/step - loss: 0.2513\n",
      "Epoch 5/10\n",
      "500000/500000 [==============================] - 1s 1us/step - loss: 0.2490\n",
      "Epoch 6/10\n",
      "500000/500000 [==============================] - 1s 2us/step - loss: 0.2478\n",
      "Epoch 7/10\n",
      "500000/500000 [==============================] - 1s 1us/step - loss: 0.2472\n",
      "Epoch 8/10\n",
      "500000/500000 [==============================] - 1s 2us/step - loss: 0.2468\n",
      "Epoch 9/10\n",
      "500000/500000 [==============================] - 1s 2us/step - loss: 0.2466\n",
      "Epoch 10/10\n",
      "500000/500000 [==============================] - 1s 1us/step - loss: 0.2464\n"
     ]
    },
    {
     "data": {
      "text/plain": [
       "<keras.callbacks.History at 0x14da34940>"
      ]
     },
     "execution_count": 135,
     "metadata": {},
     "output_type": "execute_result"
    }
   ],
   "source": [
    "mean_NN = Sequential([\n",
    "        Dense(50, input_shape=(2,)),\n",
    "        PReLU(),\n",
    "        Dense(1)\n",
    "    ])\n",
    "mean_NN.compile(optimizer='adam',\n",
    "                    loss='mse',)\n",
    "mean_NN.fit(scale(x_data, x_loc, x_scale),\n",
    "                                  scale(y_data, y_loc, y_scale),\n",
    "                                  epochs=10, batch_size=int(N_data/20),\n",
    "                                  verbose=False)"
   ]
  },
  {
   "cell_type": "code",
   "execution_count": 136,
   "metadata": {},
   "outputs": [],
   "source": [
    "myoutput_mean = back_scale(mean_NN.predict(scale(np.vstack((x_range, x_range**3)).T, x_loc, x_scale)), y_loc, y_scale).flatten()"
   ]
  },
  {
   "cell_type": "code",
   "execution_count": 137,
   "metadata": {},
   "outputs": [
    {
     "data": {
      "text/plain": [
       "[<matplotlib.lines.Line2D at 0x14da22dd8>]"
      ]
     },
     "execution_count": 137,
     "metadata": {},
     "output_type": "execute_result"
    },
    {
     "data": {
      "image/png": "[encoded data removed]",
      "text/plain": [
       "<matplotlib.figure.Figure at 0x14da22a20>"
      ]
     },
     "metadata": {},
     "output_type": "display_data"
    }
   ],
   "source": [
    "plt.plot(x_range,myoutput_mean,label=\"Learned Mean\")\n",
    "plt.plot(x_range, mu(x_range, x0), label=r\"$\\mu(x)$\")\n",
    "plt.xlabel(\"True\")\n",
    "plt.xlabel(\"Measured\")\n",
    "plt.legend()"
   ]
  },
  {
   "cell_type": "code",
   "execution_count": 139,
   "metadata": {},
   "outputs": [
    {
     "name": "stdout",
     "output_type": "stream",
     "text": [
      "Epoch 1/10\n",
      "500000/500000 [==============================] - 2s 3us/step - loss: 0.7609\n",
      "Epoch 2/10\n",
      "500000/500000 [==============================] - 1s 1us/step - loss: 0.4173\n",
      "Epoch 3/10\n",
      "500000/500000 [==============================] - 1s 2us/step - loss: 0.2981\n",
      "Epoch 4/10\n",
      "500000/500000 [==============================] - 1s 1us/step - loss: 0.2825\n",
      "Epoch 5/10\n",
      "500000/500000 [==============================] - 1s 1us/step - loss: 0.2819\n",
      "Epoch 6/10\n",
      "500000/500000 [==============================] - 1s 2us/step - loss: 0.2812\n",
      "Epoch 7/10\n",
      "500000/500000 [==============================] - 1s 2us/step - loss: 0.2808\n",
      "Epoch 8/10\n",
      "500000/500000 [==============================] - 1s 2us/step - loss: 0.2804\n",
      "Epoch 9/10\n",
      "500000/500000 [==============================] - 1s 1us/step - loss: 0.2800\n",
      "Epoch 10/10\n",
      "500000/500000 [==============================] - 1s 1us/step - loss: 0.2797\n"
     ]
    },
    {
     "data": {
      "text/plain": [
       "<keras.callbacks.History at 0x14da22a58>"
      ]
     },
     "execution_count": 139,
     "metadata": {},
     "output_type": "execute_result"
    }
   ],
   "source": [
    "moment2_NN = Sequential([\n",
    "        Dense(50, input_shape=(2,)),\n",
    "        PReLU(),\n",
    "        Dense(1)\n",
    "    ])\n",
    "moment2_NN.compile(optimizer='adam',\n",
    "                    loss='mse',)\n",
    "moment2_NN.fit(scale(x_data, x_loc, x_scale),\n",
    "                                  scale(y_data*y_data, y2_loc, y2_scale),\n",
    "                                  epochs=10, batch_size=int(N_data/20),\n",
    "                                  verbose=False)"
   ]
  },
  {
   "cell_type": "code",
   "execution_count": 140,
   "metadata": {},
   "outputs": [],
   "source": [
    "myoutput_moment2 = back_scale(moment2_NN.predict(scale(np.vstack((x_range, x_range**3)).T, x_loc, x_scale)), y2_loc, y2_scale).flatten()"
   ]
  },
  {
   "cell_type": "code",
   "execution_count": 141,
   "metadata": {},
   "outputs": [
    {
     "data": {
      "text/plain": [
       "[<matplotlib.lines.Line2D at 0x13fa61f98>]"
      ]
     },
     "execution_count": 141,
     "metadata": {},
     "output_type": "execute_result"
    },
    {
     "data": {
      "image/png": "[encoded data removed]",
      "text/plain": [
       "<matplotlib.figure.Figure at 0x13fa61780>"
      ]
     },
     "metadata": {},
     "output_type": "display_data"
    }
   ],
   "source": [
    "plt.plot(x_range,myoutput_moment2,linestyle=\":\",label=\"Learned Second Moment\")\n",
    "plt.plot(x_range,sigma(x_range, N, S, C)**2+mu(x_range, x0)**2,label=\"Exact Second Moment\")\n",
    "plt.xlabel(\"True Energy\")\n",
    "plt.xlabel(\"Measured Second Moment\")\n",
    "plt.legend()"
   ]
  },
  {
   "cell_type": "code",
   "execution_count": 142,
   "metadata": {},
   "outputs": [
    {
     "data": {
      "text/plain": [
       "[<matplotlib.lines.Line2D at 0x14a426128>]"
      ]
     },
     "execution_count": 142,
     "metadata": {},
     "output_type": "execute_result"
    },
    {
     "data": {
      "image/png": "[encoded data removed]",
      "text/plain": [
       "<matplotlib.figure.Figure at 0x14a426160>"
      ]
     },
     "metadata": {},
     "output_type": "display_data"
    }
   ],
   "source": [
    "plt.plot(x_range,myoutput_moment2-mu(x_range, x0)**2,linestyle=\":\",label=\"Learned Standard Deviation (assume exact mean)\")\n",
    "plt.plot(x_range,sigma(x_range, N, S, C)**2,label=\"Exact Standard Deviation\")\n",
    "plt.xlabel(\"True Energy\")\n",
    "plt.xlabel(\"Measured Standard Deviation\")\n",
    "plt.legend()"
   ]
  },
  {
   "cell_type": "code",
   "execution_count": 168,
   "metadata": {},
   "outputs": [
    {
     "name": "stderr",
     "output_type": "stream",
     "text": [
      "/usr/local/anaconda3/lib/python3.6/site-packages/ipykernel_launcher.py:2: RuntimeWarning: invalid value encountered in sqrt\n",
      "  \n",
      "/usr/local/anaconda3/lib/python3.6/site-packages/ipykernel_launcher.py:3: RuntimeWarning: invalid value encountered in sqrt\n",
      "  This is separate from the ipykernel package so we can avoid doing imports until\n"
     ]
    },
    {
     "data": {
      "text/plain": [
       "Text(0.5,1,'Mean/Standard Deviation Learning')"
      ]
     },
     "execution_count": 168,
     "metadata": {},
     "output_type": "execute_result"
    },
    {
     "data": {
      "image/png": "[encoded data removed]",
      "text/plain": [
       "<matplotlib.figure.Figure at 0x152a02ef0>"
      ]
     },
     "metadata": {},
     "output_type": "display_data"
    }
   ],
   "source": [
    "plt.plot(x_range,myoutput_mean,color='red',label=r'Learned $\\mu$')\n",
    "plt.plot(x_range,myoutput_mean+np.sqrt(myoutput_moment2 - myoutput_mean**2),color='blue',label=r'Learned $\\mu$+$\\sigma$')\n",
    "plt.plot(x_range,myoutput_mean-np.sqrt(myoutput_moment2 - myoutput_mean**2),color='blue',linestyle=\"-.\",label=r'Learned $\\mu$-$\\sigma$')\n",
    "plt.plot(x_range, mu(x_range, x0), label=r\"$\\mu$\",color='grey')\n",
    "plt.plot(x_range, mu(x_range, x0)+sigma(x_range, N, S, C),color=\"grey\",label=r\"$\\mu$+$\\sigma$\",linestyle=\"--\")\n",
    "plt.plot(x_range, mu(x_range, x0)-sigma(x_range, N, S, C),color=\"grey\",label=r\"$\\mu$-$\\sigma$\",linestyle=\":\")\n",
    "plt.legend(frameon=False)\n",
    "plt.ylabel('Reco')\n",
    "plt.xlabel('True')\n",
    "plt.title('Mean/Standard Deviation Learning')"
   ]
  },
  {
   "cell_type": "markdown",
   "metadata": {},
   "source": [
    "### IQR-learning NN"
   ]
  },
  {
   "cell_type": "code",
   "execution_count": 58,
   "metadata": {},
   "outputs": [],
   "source": [
    "def GAE(y_true, y_pred, q = 0.5):\n",
    "    sgn = -(y_true - y_pred) / K.abs(y_true - y_pred)\n",
    "    return (0.5-sgn*0.5+sgn*q)*K.abs(y_true - y_pred)"
   ]
  },
  {
   "cell_type": "code",
   "execution_count": 60,
   "metadata": {},
   "outputs": [
    {
     "name": "stdout",
     "output_type": "stream",
     "text": [
      "Epoch 1/10\n",
      "500000/500000 [==============================] - 2s 3us/step - loss: 0.3474\n",
      "Epoch 2/10\n",
      "500000/500000 [==============================] - 1s 1us/step - loss: 0.2423\n",
      "Epoch 3/10\n",
      "500000/500000 [==============================] - 1s 1us/step - loss: 0.2019\n",
      "Epoch 4/10\n",
      "500000/500000 [==============================] - 1s 2us/step - loss: 0.1988\n",
      "Epoch 5/10\n",
      "500000/500000 [==============================] - 1s 2us/step - loss: 0.1983\n",
      "Epoch 6/10\n",
      "500000/500000 [==============================] - 1s 1us/step - loss: 0.1980\n",
      "Epoch 7/10\n",
      "500000/500000 [==============================] - 1s 1us/step - loss: 0.1978\n",
      "Epoch 8/10\n",
      "500000/500000 [==============================] - 1s 1us/step - loss: 0.1976\n",
      "Epoch 9/10\n",
      "500000/500000 [==============================] - 1s 2us/step - loss: 0.1975\n",
      "Epoch 10/10\n",
      "500000/500000 [==============================] - 1s 2us/step - loss: 0.1974\n"
     ]
    },
    {
     "data": {
      "text/plain": [
       "<keras.callbacks.History at 0x140b61e80>"
      ]
     },
     "execution_count": 60,
     "metadata": {},
     "output_type": "execute_result"
    }
   ],
   "source": [
    "mode_NN = Sequential([\n",
    "        Dense(50, input_shape=(2,)),\n",
    "        PReLU(),\n",
    "        Dense(1)\n",
    "    ])\n",
    "mode_NN.compile(optimizer='adam',\n",
    "                    loss=lambda y_true, y_pred: GAE(y_true, y_pred, q = 0.5))\n",
    "mode_NN.fit(scale(x_data, x_loc, x_scale),\n",
    "                                  scale(y_data, y_loc, y_scale),\n",
    "                                  epochs=10, batch_size=int(N_data/20),\n",
    "                                  verbose=False)"
   ]
  },
  {
   "cell_type": "code",
   "execution_count": 62,
   "metadata": {},
   "outputs": [],
   "source": [
    "myoutput = back_scale(mode_NN.predict(scale(np.vstack((x_range, x_range**3)).T, x_loc, x_scale)), y_loc, y_scale).flatten()"
   ]
  },
  {
   "cell_type": "code",
   "execution_count": 65,
   "metadata": {},
   "outputs": [
    {
     "data": {
      "text/plain": [
       "[<matplotlib.lines.Line2D at 0x14a7f66a0>]"
      ]
     },
     "execution_count": 65,
     "metadata": {},
     "output_type": "execute_result"
    },
    {
     "data": {
      "image/png": "[encoded data removed]",
      "text/plain": [
       "<matplotlib.figure.Figure at 0x14a7f6710>"
      ]
     },
     "metadata": {},
     "output_type": "display_data"
    }
   ],
   "source": [
    "plt.plot(x_range,myoutput,label=\"Learned Median\")\n",
    "plt.plot(x_range, mu(x_range, x0), label=r\"$\\mu(x)$\")\n",
    "plt.xlabel(\"True\")\n",
    "plt.xlabel(\"Measured\")\n",
    "plt.legend()"
   ]
  },
  {
   "cell_type": "code",
   "execution_count": 66,
   "metadata": {},
   "outputs": [
    {
     "name": "stdout",
     "output_type": "stream",
     "text": [
      "Epoch 1/10\n",
      "500000/500000 [==============================] - 2s 3us/step - loss: 0.3285\n",
      "Epoch 2/10\n",
      "500000/500000 [==============================] - 1s 2us/step - loss: 0.2105\n",
      "Epoch 3/10\n",
      "500000/500000 [==============================] - 1s 2us/step - loss: 0.1423\n",
      "Epoch 4/10\n",
      "500000/500000 [==============================] - 1s 2us/step - loss: 0.1234\n",
      "Epoch 5/10\n",
      "500000/500000 [==============================] - 1s 2us/step - loss: 0.1212\n",
      "Epoch 6/10\n",
      "500000/500000 [==============================] - 1s 2us/step - loss: 0.1207\n",
      "Epoch 7/10\n",
      "500000/500000 [==============================] - 1s 2us/step - loss: 0.1205\n",
      "Epoch 8/10\n",
      "500000/500000 [==============================] - 1s 2us/step - loss: 0.1203\n",
      "Epoch 9/10\n",
      "500000/500000 [==============================] - 1s 2us/step - loss: 0.1202\n",
      "Epoch 10/10\n",
      "500000/500000 [==============================] - 1s 2us/step - loss: 0.1202\n",
      "Epoch 1/10\n",
      "500000/500000 [==============================] - 2s 3us/step - loss: 0.4647\n",
      "Epoch 2/10\n",
      "500000/500000 [==============================] - 1s 2us/step - loss: 0.2932\n",
      "Epoch 3/10\n",
      "500000/500000 [==============================] - 1s 2us/step - loss: 0.1791\n",
      "Epoch 4/10\n",
      "500000/500000 [==============================] - 1s 2us/step - loss: 0.1389\n",
      "Epoch 5/10\n",
      "500000/500000 [==============================] - 1s 2us/step - loss: 0.1301\n",
      "Epoch 6/10\n",
      "500000/500000 [==============================] - 1s 2us/step - loss: 0.1269\n",
      "Epoch 7/10\n",
      "500000/500000 [==============================] - 1s 2us/step - loss: 0.1248\n",
      "Epoch 8/10\n",
      "500000/500000 [==============================] - 1s 2us/step - loss: 0.1234\n",
      "Epoch 9/10\n",
      "500000/500000 [==============================] - 1s 2us/step - loss: 0.1224\n",
      "Epoch 10/10\n",
      "500000/500000 [==============================] - 1s 2us/step - loss: 0.1217\n"
     ]
    },
    {
     "data": {
      "text/plain": [
       "<keras.callbacks.History at 0x14ac6cda0>"
      ]
     },
     "execution_count": 66,
     "metadata": {},
     "output_type": "execute_result"
    }
   ],
   "source": [
    "print(\"First learn the 84% quantile\")\n",
    "mode_NN_84 = Sequential([\n",
    "        Dense(50, input_shape=(2,)),\n",
    "        PReLU(),\n",
    "        Dense(1)\n",
    "    ])\n",
    "mode_NN_84.compile(optimizer='adam',\n",
    "                    loss=lambda y_true, y_pred: GAE(y_true, y_pred, q = 0.84))\n",
    "mode_NN_84.fit(scale(x_data, x_loc, x_scale),\n",
    "                                  scale(y_data, y_loc, y_scale),\n",
    "                                  epochs=10, batch_size=int(N_data/20),\n",
    "                                  verbose=False)\n",
    "\n",
    "print(\"Next, learn the 16% quantile\")\n",
    "mode_NN_16 = Sequential([\n",
    "        Dense(50, input_shape=(2,)),\n",
    "        PReLU(),\n",
    "        Dense(1)\n",
    "    ])\n",
    "mode_NN_16.compile(optimizer='adam',\n",
    "                    loss=lambda y_true, y_pred: GAE(y_true, y_pred, q = 0.16))\n",
    "mode_NN_16.fit(scale(x_data, x_loc, x_scale),\n",
    "                                  scale(y_data, y_loc, y_scale),\n",
    "                                  epochs=10, batch_size=int(N_data/20),\n",
    "                                  verbose=False)"
   ]
  },
  {
   "cell_type": "code",
   "execution_count": 68,
   "metadata": {},
   "outputs": [],
   "source": [
    "myoutput_84 = back_scale(mode_NN_84.predict(scale(np.vstack((x_range, x_range**3)).T, x_loc, x_scale)), y_loc, y_scale).flatten()\n",
    "myoutput_16 = back_scale(mode_NN_16.predict(scale(np.vstack((x_range, x_range**3)).T, x_loc, x_scale)), y_loc, y_scale).flatten()"
   ]
  },
  {
   "cell_type": "code",
   "execution_count": 169,
   "metadata": {},
   "outputs": [
    {
     "data": {
      "text/plain": [
       "Text(0.5,1,'Median/Quantile Learning')"
      ]
     },
     "execution_count": 169,
     "metadata": {},
     "output_type": "execute_result"
    },
    {
     "data": {
      "image/png": "[encoded data removed]",
      "text/plain": [
       "<matplotlib.figure.Figure at 0x152a115f8>"
      ]
     },
     "metadata": {},
     "output_type": "display_data"
    }
   ],
   "source": [
    "plt.plot(x_range,myoutput,color='red',label=r'Learned $\\mu$')\n",
    "plt.plot(x_range,myoutput_84,color='blue',label=r'Learned $\\mu$+$\\sigma$')\n",
    "plt.plot(x_range,myoutput_16,color='blue',linestyle=\"-.\",label=r'Learned $\\mu$-$\\sigma$')\n",
    "plt.plot(x_range, mu(x_range, x0), label=r\"$\\mu$\",color='grey')\n",
    "plt.plot(x_range, mu(x_range, x0)+sigma(x_range, N, S, C),color=\"grey\",label=r\"$\\mu$+$\\sigma$\",linestyle=\"--\")\n",
    "plt.plot(x_range, mu(x_range, x0)-sigma(x_range, N, S, C),color=\"grey\",label=r\"$\\mu$-$\\sigma$\",linestyle=\":\")\n",
    "plt.legend(frameon=False)\n",
    "plt.ylabel('Reco')\n",
    "plt.xlabel('True')\n",
    "plt.title('Median/Quantile Learning')"
   ]
  },
  {
   "cell_type": "markdown",
   "metadata": {},
   "source": [
    "## Now for the tracking case"
   ]
  },
  {
   "cell_type": "code",
   "execution_count": 204,
   "metadata": {},
   "outputs": [],
   "source": [
    "def nsf(num, n=2):\n",
    "    \"\"\"n-Significant Figures\"\"\"\n",
    "    numstr = (\"{0:.%ie}\" % (n-1)).format(num)\n",
    "    return float(numstr)"
   ]
  },
  {
   "cell_type": "code",
   "execution_count": 511,
   "metadata": {},
   "outputs": [
    {
     "name": "stdout",
     "output_type": "stream",
     "text": [
      "2.0 -0.04 1.0 180.0\n",
      "2.2 -0.021 1.0 1900.0\n",
      "2.4 -0.012 1.0 30.0\n",
      "2.7 -0.0052 1.0 93.0\n",
      "2.9 -0.0029 1.0 3.0\n",
      "3.1 -0.0016 1.0 3.6\n",
      "3.3 -0.00061 0.99 1.8\n",
      "3.6 -0.00074 0.99 1.2\n",
      "3.8 0.001 0.99 1.0\n",
      "4.0 -0.0011 0.99 1.0\n"
     ]
    },
    {
     "data": {
      "text/plain": [
       "<matplotlib.legend.Legend at 0x16e975080>"
      ]
     },
     "execution_count": 511,
     "metadata": {},
     "output_type": "execute_result"
    },
    {
     "data": {
      "image/png": "[encoded data removed]",
      "text/plain": [
       "<matplotlib.figure.Figure at 0x16e7c5d68>"
      ]
     },
     "metadata": {},
     "output_type": "display_data"
    }
   ],
   "source": [
    "#We want to show that the IQR learning is robust to heavy tails.  This is a quick demo that the Crystal Ball is well-suited for this test.\n",
    "IQRs = []\n",
    "STDs = []\n",
    "for be in np.linspace(2,4,10):\n",
    "    rvals = stt.crystalball.rvs(beta=be, m=2, size=N_gen*5)\n",
    "    print(nsf(be),nsf(np.quantile(rvals, 0.5)),nsf(0.5*(np.quantile(rvals, 0.84)-np.quantile(rvals, 0.16))),nsf(np.std(rvals)))\n",
    "    IQRs+=[0.5*(np.quantile(rvals, 0.84)-np.quantile(rvals, 0.16))]\n",
    "    STDs+=[np.std(rvals)]\n",
    "    pass\n",
    "plt.plot(np.linspace(2,4,10),IQRs,label=\"68% IQR\")\n",
    "plt.plot(np.linspace(2,4,10),STDs,label=\"Sample STD\")\n",
    "plt.xlabel(r'$\\beta$')\n",
    "plt.yscale(\"log\")\n",
    "plt.ylabel('Measure of spread')\n",
    "plt.legend()"
   ]
  },
  {
   "cell_type": "code",
   "execution_count": 563,
   "metadata": {},
   "outputs": [
    {
     "ename": "SyntaxError",
     "evalue": "invalid syntax (<ipython-input-563-655b28513450>, line 7)",
     "output_type": "error",
     "traceback": [
      "\u001b[0;36m  File \u001b[0;32m\"<ipython-input-563-655b28513450>\"\u001b[0;36m, line \u001b[0;32m7\u001b[0m\n\u001b[0;31m    return 0.03*(np.exp(-4*)np.exp(20*np.log(np.log(x)/np.log(10))/np.log(10))/4+1)\u001b[0m\n\u001b[0m                           ^\u001b[0m\n\u001b[0;31mSyntaxError\u001b[0m\u001b[0;31m:\u001b[0m invalid syntax\n"
     ]
    }
   ],
   "source": [
    "def mysigma(x):\n",
    "    #roughly based on https://atlas.web.cern.ch/Atlas/GROUPS/PHYSICS/PAPERS/PERF-2014-05/fig_15c.png\n",
    "    return 0.03*(np.exp(20*np.log(x)/np.log(10)-4)/4+1)\n",
    "\n",
    "def mysigma_linear(x):\n",
    "    #roughly based on https://atlas.web.cern.ch/Atlas/GROUPS/PHYSICS/PAPERS/PERF-2014-05/fig_15c.png\n",
    "    return 0.03*(np.exp(-4*)np.exp(20*np.log(np.log(x)/np.log(10))/np.log(10))/4+1)\n",
    "\n",
    "x2_min = np.log(7)/np.log(10)\n",
    "x2_max = np.log(100)/np.log(10)\n",
    "x2_range = np.linspace(x2_min, x2_max, 500)"
   ]
  },
  {
   "cell_type": "code",
   "execution_count": 566,
   "metadata": {},
   "outputs": [
    {
     "data": {
      "text/plain": [
       "Text(0,0.5,'Fractional Momentum Resolution')"
      ]
     },
     "execution_count": 566,
     "metadata": {},
     "output_type": "execute_result"
    },
    {
     "data": {
      "image/png": "[encoded data removed]",
      "text/plain": [
       "<matplotlib.figure.Figure at 0x195f459e8>"
      ]
     },
     "metadata": {},
     "output_type": "display_data"
    }
   ],
   "source": [
    "plt.plot(10**x2_range, mysigma_linear(10**x2_range), label=r\"$\\mu(x)$\")\n",
    "plt.plot(10**x2_range, mysigma(x2_range), label=r\"$\\mu(x)$\",linestyle=\":\")\n",
    "plt.xscale(\"log\")\n",
    "plt.xlabel(\"Muon Momentum [GeV]\")\n",
    "plt.ylabel(\"Fractional Momentum Resolution\")"
   ]
  },
  {
   "cell_type": "markdown",
   "metadata": {},
   "source": [
    "Let's start with one value of beta and then scan it later."
   ]
  },
  {
   "cell_type": "code",
   "execution_count": 550,
   "metadata": {},
   "outputs": [],
   "source": [
    "x_data = stt.uniform.rvs(loc=x2_min, scale=x2_max-x2_min, size=N_gen*5)\n",
    "y_data = 1 + mysigma(x_data)*stt.crystalball.rvs(beta=3, m=2, size=N_gen*5)\n",
    "\n",
    "x_data_forstd = x_data.copy()\n",
    "y_data_forstd = y_data.copy()"
   ]
  },
  {
   "cell_type": "code",
   "execution_count": 551,
   "metadata": {},
   "outputs": [],
   "source": [
    "x_data = x_data[:N_data]\n",
    "y_data = y_data[:N_data]"
   ]
  },
  {
   "cell_type": "code",
   "execution_count": 552,
   "metadata": {},
   "outputs": [
    {
     "data": {
      "image/png": "[encoded data removed]",
      "text/plain": [
       "<matplotlib.figure.Figure at 0x18d6a7128>"
      ]
     },
     "metadata": {},
     "output_type": "display_data"
    }
   ],
   "source": [
    "n_plot = 300\n",
    "\n",
    "plt.scatter(10**x_data[:n_plot], y_data[:n_plot],c='k', alpha=0.3, marker='x', label=\"MC Samples\")\n",
    "\n",
    "plt.xlim([10**x2_min, 10**x2_max])\n",
    "plt.xlabel(r\"True Muon Momentum [GeV]\")\n",
    "plt.ylabel(r\"Relative Muon Momentum Scale\")\n",
    "plt.grid()\n",
    "plt.xscale(\"log\")\n",
    "\n",
    "plt.show()"
   ]
  },
  {
   "cell_type": "code",
   "execution_count": 553,
   "metadata": {},
   "outputs": [],
   "source": [
    "x_data = np.vstack((x_data, x_data**3)).T"
   ]
  },
  {
   "cell_type": "code",
   "execution_count": 554,
   "metadata": {},
   "outputs": [],
   "source": [
    "x_loc, x_scale = np.mean(x_data, axis=0), np.std(x_data, axis=0)\n",
    "y_loc, y_scale = np.mean(y_data), np.std(y_data)"
   ]
  },
  {
   "cell_type": "code",
   "execution_count": 555,
   "metadata": {},
   "outputs": [],
   "source": [
    "n_repeat = 25 #was 25\n",
    "n_epochs = 50 # was 50"
   ]
  },
  {
   "cell_type": "code",
   "execution_count": 556,
   "metadata": {},
   "outputs": [
    {
     "name": "stdout",
     "output_type": "stream",
     "text": [
      "First learn the 84% quantile\n",
      "Iteration 1: Starting...\n",
      "Iteration 1: Training...\n",
      "Iteration 1: Evaluating...\n",
      "Iteration 1: Complete!\n",
      "\n",
      "Iteration 2: Starting...\n",
      "Iteration 2: Training...\n",
      "Iteration 2: Evaluating...\n",
      "Iteration 2: Complete!\n",
      "\n",
      "Iteration 3: Starting...\n",
      "Iteration 3: Training...\n",
      "Iteration 3: Evaluating...\n",
      "Iteration 3: Complete!\n",
      "\n",
      "Iteration 4: Starting...\n",
      "Iteration 4: Training...\n",
      "Iteration 4: Evaluating...\n",
      "Iteration 4: Complete!\n",
      "\n",
      "Iteration 5: Starting...\n",
      "Iteration 5: Training...\n",
      "Iteration 5: Evaluating...\n",
      "Iteration 5: Complete!\n",
      "\n",
      "Iteration 6: Starting...\n",
      "Iteration 6: Training...\n",
      "Iteration 6: Evaluating...\n",
      "Iteration 6: Complete!\n",
      "\n",
      "Iteration 7: Starting...\n",
      "Iteration 7: Training...\n",
      "Iteration 7: Evaluating...\n",
      "Iteration 7: Complete!\n",
      "\n",
      "Iteration 8: Starting...\n",
      "Iteration 8: Training...\n",
      "Iteration 8: Evaluating...\n",
      "Iteration 8: Complete!\n",
      "\n",
      "Iteration 9: Starting...\n",
      "Iteration 9: Training...\n",
      "Iteration 9: Evaluating...\n",
      "Iteration 9: Complete!\n",
      "\n",
      "Iteration 10: Starting...\n",
      "Iteration 10: Training...\n",
      "Iteration 10: Evaluating...\n",
      "Iteration 10: Complete!\n",
      "\n",
      "Iteration 11: Starting...\n",
      "Iteration 11: Training...\n",
      "Iteration 11: Evaluating...\n",
      "Iteration 11: Complete!\n",
      "\n",
      "Iteration 12: Starting...\n",
      "Iteration 12: Training...\n",
      "Iteration 12: Evaluating...\n",
      "Iteration 12: Complete!\n",
      "\n",
      "Iteration 13: Starting...\n",
      "Iteration 13: Training...\n",
      "Iteration 13: Evaluating...\n",
      "Iteration 13: Complete!\n",
      "\n",
      "Iteration 14: Starting...\n",
      "Iteration 14: Training...\n",
      "Iteration 14: Evaluating...\n",
      "Iteration 14: Complete!\n",
      "\n",
      "Iteration 15: Starting...\n",
      "Iteration 15: Training...\n",
      "Iteration 15: Evaluating...\n",
      "Iteration 15: Complete!\n",
      "\n",
      "Iteration 16: Starting...\n",
      "Iteration 16: Training...\n",
      "Iteration 16: Evaluating...\n",
      "Iteration 16: Complete!\n",
      "\n",
      "Iteration 17: Starting...\n",
      "Iteration 17: Training...\n",
      "Iteration 17: Evaluating...\n",
      "Iteration 17: Complete!\n",
      "\n",
      "Iteration 18: Starting...\n",
      "Iteration 18: Training...\n",
      "Iteration 18: Evaluating...\n",
      "Iteration 18: Complete!\n",
      "\n",
      "Iteration 19: Starting...\n",
      "Iteration 19: Training...\n",
      "Iteration 19: Evaluating...\n",
      "Iteration 19: Complete!\n",
      "\n",
      "Iteration 20: Starting...\n",
      "Iteration 20: Training...\n",
      "Iteration 20: Evaluating...\n",
      "Iteration 20: Complete!\n",
      "\n",
      "Iteration 21: Starting...\n",
      "Iteration 21: Training...\n",
      "Iteration 21: Evaluating...\n",
      "Iteration 21: Complete!\n",
      "\n",
      "Iteration 22: Starting...\n",
      "Iteration 22: Training...\n",
      "Iteration 22: Evaluating...\n",
      "Iteration 22: Complete!\n",
      "\n",
      "Iteration 23: Starting...\n",
      "Iteration 23: Training...\n",
      "Iteration 23: Evaluating...\n",
      "Iteration 23: Complete!\n",
      "\n",
      "Iteration 24: Starting...\n",
      "Iteration 24: Training...\n",
      "Iteration 24: Evaluating...\n",
      "Iteration 24: Complete!\n",
      "\n",
      "Iteration 25: Starting...\n",
      "Iteration 25: Training...\n",
      "Iteration 25: Evaluating...\n",
      "Iteration 25: Complete!\n",
      "\n"
     ]
    }
   ],
   "source": [
    "print(\"First learn the 84% quantile\")\n",
    "quantile84_NN_results = []\n",
    "\n",
    "for i in range(n_repeat):\n",
    "    \n",
    "    print(\"Iteration %d: Starting...\" % (i+1))\n",
    "\n",
    "    quantile84_NN = Sequential([\n",
    "        Dense(50, input_shape=(2,)),\n",
    "        PReLU(),\n",
    "        Dense(1)\n",
    "    ])\n",
    "    quantile84_cp = ModelCheckpoint(\"./NN_weights/muon_quantile84_NN_n%d.hdf5\" % (i+1),\n",
    "                              monitor='loss',\n",
    "                              verbose=False,\n",
    "                              save_best_only=True,\n",
    "                              mode='min')\n",
    "    quantile84_NN.compile(optimizer='adam',\n",
    "                    loss=lambda y_true, y_pred: GAE(y_true, y_pred, q = 0.84))\n",
    "    \n",
    "    print(\"Iteration %d: Training...\" % (i+1))\n",
    "    \n",
    "    quantile84_NN_history = quantile84_NN.fit(scale(x_data, x_loc, x_scale),\n",
    "                                  scale(y_data, y_loc, y_scale),\n",
    "                                  epochs=n_epochs, batch_size=int(N_data/20),\n",
    "                                  callbacks=[quantile84_cp],\n",
    "                                  verbose=False)\n",
    "    \n",
    "    print(\"Iteration %d: Evaluating...\" % (i+1))\n",
    "\n",
    "    quantile84_NN.load_weights(\"./NN_weights/muon_quantile84_NN_n%d.hdf5\" % (i+1))\n",
    "\n",
    "    quantile84_NN_results.append(back_scale(quantile84_NN.predict(scale(np.vstack((x2_range, x2_range**3)).T, x_loc, x_scale)), y_loc, y_scale).flatten())\n",
    "    \n",
    "    print(\"Iteration %d: Complete!\\n\" % (i+1))\n",
    "\n",
    "quantile84_NN_results = np.array(quantile84_NN_results)"
   ]
  },
  {
   "cell_type": "code",
   "execution_count": 557,
   "metadata": {},
   "outputs": [
    {
     "name": "stdout",
     "output_type": "stream",
     "text": [
      "Next, learn the 16% quantile\n",
      "Iteration 1: Starting...\n",
      "Iteration 1: Training...\n",
      "Iteration 1: Evaluating...\n",
      "Iteration 1: Complete!\n",
      "\n",
      "Iteration 2: Starting...\n",
      "Iteration 2: Training...\n",
      "Iteration 2: Evaluating...\n",
      "Iteration 2: Complete!\n",
      "\n",
      "Iteration 3: Starting...\n",
      "Iteration 3: Training...\n",
      "Iteration 3: Evaluating...\n",
      "Iteration 3: Complete!\n",
      "\n",
      "Iteration 4: Starting...\n",
      "Iteration 4: Training...\n",
      "Iteration 4: Evaluating...\n",
      "Iteration 4: Complete!\n",
      "\n",
      "Iteration 5: Starting...\n",
      "Iteration 5: Training...\n",
      "Iteration 5: Evaluating...\n",
      "Iteration 5: Complete!\n",
      "\n",
      "Iteration 6: Starting...\n",
      "Iteration 6: Training...\n",
      "Iteration 6: Evaluating...\n",
      "Iteration 6: Complete!\n",
      "\n",
      "Iteration 7: Starting...\n",
      "Iteration 7: Training...\n",
      "Iteration 7: Evaluating...\n",
      "Iteration 7: Complete!\n",
      "\n",
      "Iteration 8: Starting...\n",
      "Iteration 8: Training...\n",
      "Iteration 8: Evaluating...\n",
      "Iteration 8: Complete!\n",
      "\n",
      "Iteration 9: Starting...\n",
      "Iteration 9: Training...\n",
      "Iteration 9: Evaluating...\n",
      "Iteration 9: Complete!\n",
      "\n",
      "Iteration 10: Starting...\n",
      "Iteration 10: Training...\n",
      "Iteration 10: Evaluating...\n",
      "Iteration 10: Complete!\n",
      "\n",
      "Iteration 11: Starting...\n",
      "Iteration 11: Training...\n",
      "Iteration 11: Evaluating...\n",
      "Iteration 11: Complete!\n",
      "\n",
      "Iteration 12: Starting...\n",
      "Iteration 12: Training...\n",
      "Iteration 12: Evaluating...\n",
      "Iteration 12: Complete!\n",
      "\n",
      "Iteration 13: Starting...\n",
      "Iteration 13: Training...\n",
      "Iteration 13: Evaluating...\n",
      "Iteration 13: Complete!\n",
      "\n",
      "Iteration 14: Starting...\n",
      "Iteration 14: Training...\n",
      "Iteration 14: Evaluating...\n",
      "Iteration 14: Complete!\n",
      "\n",
      "Iteration 15: Starting...\n",
      "Iteration 15: Training...\n",
      "Iteration 15: Evaluating...\n",
      "Iteration 15: Complete!\n",
      "\n",
      "Iteration 16: Starting...\n",
      "Iteration 16: Training...\n",
      "Iteration 16: Evaluating...\n",
      "Iteration 16: Complete!\n",
      "\n",
      "Iteration 17: Starting...\n",
      "Iteration 17: Training...\n",
      "Iteration 17: Evaluating...\n",
      "Iteration 17: Complete!\n",
      "\n",
      "Iteration 18: Starting...\n",
      "Iteration 18: Training...\n",
      "Iteration 18: Evaluating...\n",
      "Iteration 18: Complete!\n",
      "\n",
      "Iteration 19: Starting...\n",
      "Iteration 19: Training...\n",
      "Iteration 19: Evaluating...\n",
      "Iteration 19: Complete!\n",
      "\n",
      "Iteration 20: Starting...\n",
      "Iteration 20: Training...\n",
      "Iteration 20: Evaluating...\n",
      "Iteration 20: Complete!\n",
      "\n",
      "Iteration 21: Starting...\n",
      "Iteration 21: Training...\n",
      "Iteration 21: Evaluating...\n",
      "Iteration 21: Complete!\n",
      "\n",
      "Iteration 22: Starting...\n",
      "Iteration 22: Training...\n",
      "Iteration 22: Evaluating...\n",
      "Iteration 22: Complete!\n",
      "\n",
      "Iteration 23: Starting...\n",
      "Iteration 23: Training...\n",
      "Iteration 23: Evaluating...\n",
      "Iteration 23: Complete!\n",
      "\n",
      "Iteration 24: Starting...\n",
      "Iteration 24: Training...\n",
      "Iteration 24: Evaluating...\n",
      "Iteration 24: Complete!\n",
      "\n",
      "Iteration 25: Starting...\n",
      "Iteration 25: Training...\n",
      "Iteration 25: Evaluating...\n",
      "Iteration 25: Complete!\n",
      "\n"
     ]
    }
   ],
   "source": [
    "print(\"Next, learn the 16% quantile\")\n",
    "quantile16_NN_results = []\n",
    "\n",
    "for i in range(n_repeat):\n",
    "    \n",
    "    print(\"Iteration %d: Starting...\" % (i+1))\n",
    "\n",
    "    quantile16_NN = Sequential([\n",
    "        Dense(50, input_shape=(2,)),\n",
    "        PReLU(),\n",
    "        Dense(1)\n",
    "    ])\n",
    "    quantile16_cp = ModelCheckpoint(\"./NN_weights/muon_quantile16_NN_n%d.hdf5\" % (i+1),\n",
    "                              monitor='loss',\n",
    "                              verbose=False,\n",
    "                              save_best_only=True,\n",
    "                              mode='min')\n",
    "    quantile16_NN.compile(optimizer='adam',\n",
    "                    loss=lambda y_true, y_pred: GAE(y_true, y_pred, q = 0.16))\n",
    "    \n",
    "    print(\"Iteration %d: Training...\" % (i+1))\n",
    "    \n",
    "    quantile16_NN_history = quantile16_NN.fit(scale(x_data, x_loc, x_scale),\n",
    "                                  scale(y_data, y_loc, y_scale),\n",
    "                                  epochs=n_epochs, batch_size=int(N_data/20),\n",
    "                                  callbacks=[quantile16_cp],\n",
    "                                  verbose=False)\n",
    "    \n",
    "    print(\"Iteration %d: Evaluating...\" % (i+1))\n",
    "\n",
    "    quantile16_NN.load_weights(\"./NN_weights/muon_quantile16_NN_n%d.hdf5\" % (i+1))\n",
    "\n",
    "    quantile16_NN_results.append(back_scale(quantile16_NN.predict(scale(np.vstack((x2_range, x2_range**3)).T, x_loc, x_scale)), y_loc, y_scale).flatten())\n",
    "    \n",
    "    print(\"Iteration %d: Complete!\\n\" % (i+1))\n",
    "\n",
    "quantile16_NN_results = np.array(quantile16_NN_results)"
   ]
  },
  {
   "cell_type": "code",
   "execution_count": 562,
   "metadata": {},
   "outputs": [
    {
     "data": {
      "image/png": "[encoded data removed]",
      "text/plain": [
       "<matplotlib.figure.Figure at 0x1905336a0>"
      ]
     },
     "metadata": {},
     "output_type": "display_data"
    }
   ],
   "source": [
    "#mean_plot = plt.plot(x_range, x_mean_range / mu(x_range, x0),\n",
    "#                     c=mpl_color[1], linestyle='--', label=\"Mean Response\")\n",
    "\n",
    "plt.plot(10**x2_range, mysigma(x2_range), label=r\"$\\sigma(x)$\",c=mpl_color[1], linestyle='--')\n",
    "\n",
    "#plt.plot([], [],c=mpl_color[2], alpha=1, label=r\"Learned 68% Quantile\")\n",
    "#for i in range(n_repeat):\n",
    "#    plt.plot(10**x2_range, 0.5*(quantile16_NN_results[i] - quantile84_NN_results[i]),c=mpl_color[2], alpha=0.2)\n",
    "\n",
    "interquantile68 = 0.5*(quantile16_NN_results - quantile84_NN_results)\n",
    "\n",
    "plt.plot(10**x2_range, np.median(interquantile68, axis=0).flatten(),c=mpl_color[0], label=r\"$\\nu_\\mathrm{IQR}(x)$\")\n",
    "plt.fill_between(10**x2_range,\n",
    "                 #(np.median(interquantile68, axis=0)-0.5*(np.quantile(interquantile68, 0.84, axis=0)-np.quantile(interquantile68, 0.16, axis=0))).flatten(),\n",
    "                 #(np.median(interquantile68, axis=0)+0.5*(np.quantile(interquantile68, 0.84, axis=0)-np.quantile(interquantile68, 0.16, axis=0))).flatten(),\n",
    "                 #color=mpl_color[0], alpha=0.2)    \n",
    "                 (np.mean(interquantile68, axis=0)-(np.std(interquantile68, axis=0))).flatten(),\n",
    "                 (np.mean(interquantile68, axis=0)+(np.std(interquantile68, axis=0))).flatten(),\n",
    "                 color=mpl_color[0], alpha=0.2)     \n",
    "    \n",
    "#plt.xlim([x_range[0], x_range[-1]])\n",
    "#plt.ylim([0.95, 1.25])\n",
    "plt.xlabel(r\"True Muon Momentum [GeV]\")\n",
    "plt.ylabel(r\"Relative Momentum Resolution\")\n",
    "plt.grid()\n",
    "plt.xscale(\"log\")\n",
    "\n",
    "plt.legend()\n",
    "\n",
    "plt.savefig(\"./fig/muon_momentum2_resolution.png\",bbox_inches=\"tight\", dpi=400)\n",
    "plt.savefig(\"./fig/muon_momentum2_resolution.pdf\",bbox_inches=\"tight\")\n",
    "plt.show()"
   ]
  },
  {
   "cell_type": "code",
   "execution_count": 498,
   "metadata": {},
   "outputs": [
    {
     "name": "stdout",
     "output_type": "stream",
     "text": [
      "1.0436454273588438\n",
      "157.2621458718648\n"
     ]
    }
   ],
   "source": [
    "print(np.mean(np.median(interquantile68, axis=0).flatten()/mysigma(x2_range)))\n",
    "print(np.std((y_data_forstd-1)/mu(x_data_forstd)))"
   ]
  },
  {
   "cell_type": "markdown",
   "metadata": {},
   "source": [
    "Now, let's scan $\\beta$."
   ]
  },
  {
   "cell_type": "code",
   "execution_count": 526,
   "metadata": {},
   "outputs": [
    {
     "name": "stdout",
     "output_type": "stream",
     "text": [
      "on beta =  2.0\n",
      "First learn the 84% quantile\n",
      "Iteration 1: Starting...\n",
      "Iteration 1: Training...\n",
      "Iteration 1: Evaluating...\n",
      "Iteration 1: Complete!\n",
      "\n",
      "Next, learn the 16% quantile\n",
      "Iteration 1: Starting...\n",
      "Iteration 1: Training...\n",
      "Iteration 1: Evaluating...\n",
      "Iteration 1: Complete!\n",
      "\n",
      "2.0 1.2417969229638102\n",
      "2.0 371.87566186768987\n",
      "on beta =  2.2222222222222223\n",
      "First learn the 84% quantile\n",
      "Iteration 1: Starting...\n",
      "Iteration 1: Training...\n",
      "Iteration 1: Evaluating...\n",
      "Iteration 1: Complete!\n",
      "\n",
      "Next, learn the 16% quantile\n",
      "Iteration 1: Starting...\n",
      "Iteration 1: Training...\n",
      "Iteration 1: Evaluating...\n",
      "Iteration 1: Complete!\n",
      "\n",
      "2.2222222222222223 1.019034931682831\n",
      "2.2222222222222223 25.318054546331723\n",
      "on beta =  2.4444444444444446\n",
      "First learn the 84% quantile\n",
      "Iteration 1: Starting...\n",
      "Iteration 1: Training...\n",
      "Iteration 1: Evaluating...\n",
      "Iteration 1: Complete!\n",
      "\n",
      "Next, learn the 16% quantile\n",
      "Iteration 1: Starting...\n",
      "Iteration 1: Training...\n",
      "Iteration 1: Evaluating...\n",
      "Iteration 1: Complete!\n",
      "\n",
      "2.4444444444444446 1.0206092665426376\n",
      "2.4444444444444446 17.64789944907025\n",
      "on beta =  2.6666666666666665\n",
      "First learn the 84% quantile\n",
      "Iteration 1: Starting...\n",
      "Iteration 1: Training...\n",
      "Iteration 1: Evaluating...\n",
      "Iteration 1: Complete!\n",
      "\n",
      "Next, learn the 16% quantile\n",
      "Iteration 1: Starting...\n",
      "Iteration 1: Training...\n",
      "Iteration 1: Evaluating...\n",
      "Iteration 1: Complete!\n",
      "\n",
      "2.6666666666666665 1.033746942933853\n",
      "2.6666666666666665 15.978625902258822\n",
      "on beta =  2.888888888888889\n",
      "First learn the 84% quantile\n",
      "Iteration 1: Starting...\n",
      "Iteration 1: Training...\n",
      "Iteration 1: Evaluating...\n",
      "Iteration 1: Complete!\n",
      "\n",
      "Next, learn the 16% quantile\n",
      "Iteration 1: Starting...\n",
      "Iteration 1: Training...\n",
      "Iteration 1: Evaluating...\n",
      "Iteration 1: Complete!\n",
      "\n",
      "2.888888888888889 0.9945231613062693\n",
      "2.888888888888889 2.611208630086431\n",
      "on beta =  3.111111111111111\n",
      "First learn the 84% quantile\n",
      "Iteration 1: Starting...\n",
      "Iteration 1: Training...\n",
      "Iteration 1: Evaluating...\n",
      "Iteration 1: Complete!\n",
      "\n",
      "Next, learn the 16% quantile\n",
      "Iteration 1: Starting...\n",
      "Iteration 1: Training...\n",
      "Iteration 1: Evaluating...\n",
      "Iteration 1: Complete!\n",
      "\n",
      "3.111111111111111 1.020843284662982\n",
      "3.111111111111111 11.343088481579684\n",
      "on beta =  3.333333333333333\n",
      "First learn the 84% quantile\n",
      "Iteration 1: Starting...\n",
      "Iteration 1: Training...\n",
      "Iteration 1: Evaluating...\n",
      "Iteration 1: Complete!\n",
      "\n",
      "Next, learn the 16% quantile\n",
      "Iteration 1: Starting...\n",
      "Iteration 1: Training...\n",
      "Iteration 1: Evaluating...\n",
      "Iteration 1: Complete!\n",
      "\n",
      "3.333333333333333 0.9862557443166626\n",
      "3.333333333333333 2.258866662419475\n",
      "on beta =  3.5555555555555554\n",
      "First learn the 84% quantile\n",
      "Iteration 1: Starting...\n",
      "Iteration 1: Training...\n",
      "Iteration 1: Evaluating...\n",
      "Iteration 1: Complete!\n",
      "\n",
      "Next, learn the 16% quantile\n",
      "Iteration 1: Starting...\n",
      "Iteration 1: Training...\n",
      "Iteration 1: Evaluating...\n",
      "Iteration 1: Complete!\n",
      "\n",
      "3.5555555555555554 0.9789169453416954\n",
      "3.5555555555555554 1.0739225168761843\n",
      "on beta =  3.7777777777777777\n",
      "First learn the 84% quantile\n",
      "Iteration 1: Starting...\n",
      "Iteration 1: Training...\n",
      "Iteration 1: Evaluating...\n",
      "Iteration 1: Complete!\n",
      "\n",
      "Next, learn the 16% quantile\n",
      "Iteration 1: Starting...\n",
      "Iteration 1: Training...\n",
      "Iteration 1: Evaluating...\n",
      "Iteration 1: Complete!\n",
      "\n",
      "3.7777777777777777 0.9875072848859522\n",
      "3.7777777777777777 1.0954080514137574\n",
      "on beta =  4.0\n",
      "First learn the 84% quantile\n",
      "Iteration 1: Starting...\n",
      "Iteration 1: Training...\n",
      "Iteration 1: Evaluating...\n",
      "Iteration 1: Complete!\n",
      "\n",
      "Next, learn the 16% quantile\n",
      "Iteration 1: Starting...\n",
      "Iteration 1: Training...\n",
      "Iteration 1: Evaluating...\n",
      "Iteration 1: Complete!\n",
      "\n",
      "4.0 0.9886040641469485\n",
      "4.0 1.0242756993295787\n"
     ]
    }
   ],
   "source": [
    "n_epochs = 10\n",
    "n_takes = 1\n",
    "\n",
    "std_vals = []\n",
    "iqr_vals = []\n",
    "for be in np.linspace(2,4,10):\n",
    "    print(\"on beta = \",be)\n",
    "    \n",
    "    x_data_beta = stt.uniform.rvs(loc=x2_min, scale=x2_max-x2_min, size=N_gen*5)\n",
    "    y_data_beta = 1 + mysigma(x_data_beta)*stt.crystalball.rvs(beta=be, m=2, size=N_gen*5)\n",
    "\n",
    "    x_data_forstd_beta = x_data_beta.copy()\n",
    "    y_data_forstd_beta = y_data_beta.copy()\n",
    "    \n",
    "    x_data_beta = x_data_beta[:N_data]\n",
    "    y_data_beta = y_data_beta[:N_data]\n",
    "    \n",
    "    x_data_beta = np.vstack((x_data_beta, x_data_beta**3)).T\n",
    "    x_loc_beta, x_scale_beta = np.mean(x_data_beta, axis=0), np.std(x_data_beta, axis=0)\n",
    "    y_loc_beta, y_scale_beta = np.mean(y_data_beta), np.std(y_data_beta)\n",
    "\n",
    "    print(\"First learn the 84% quantile\")\n",
    "    \n",
    "    quantile84_NN_results_beta = []\n",
    "\n",
    "    for i in range(n_takes):\n",
    "\n",
    "        print(\"Iteration %d: Starting...\" % (i+1))\n",
    "\n",
    "        quantile84_NN = Sequential([\n",
    "            Dense(50, input_shape=(2,)),\n",
    "            PReLU(),\n",
    "            Dense(1)\n",
    "        ])\n",
    "        quantile84_cp = ModelCheckpoint(\"./NN_weights/muon_quantile84_NN_n%d_beta.hdf5\" % (i+1),\n",
    "                                  monitor='loss',\n",
    "                                  verbose=False,\n",
    "                                  save_best_only=True,\n",
    "                                  mode='min')\n",
    "        quantile84_NN.compile(optimizer='adam',\n",
    "                        loss=lambda y_true, y_pred: GAE(y_true, y_pred, q = 0.84))\n",
    "\n",
    "        print(\"Iteration %d: Training...\" % (i+1))\n",
    "\n",
    "        quantile84_NN_history = quantile84_NN.fit(scale(x_data_beta, x_loc_beta, x_scale_beta),\n",
    "                                      scale(y_data_beta, y_loc_beta, y_scale_beta),\n",
    "                                      epochs=n_epochs, batch_size=int(N_data/20),\n",
    "                                      callbacks=[quantile84_cp],\n",
    "                                      verbose=False)\n",
    "\n",
    "        print(\"Iteration %d: Evaluating...\" % (i+1))\n",
    "\n",
    "        quantile84_NN.load_weights(\"./NN_weights/muon_quantile84_NN_n%d_beta.hdf5\" % (i+1))\n",
    "\n",
    "        quantile84_NN_results_beta.append(back_scale(quantile84_NN.predict(scale(np.vstack((x2_range, x2_range**3)).T, x_loc_beta, x_scale_beta)), y_loc_beta, y_scale_beta).flatten())\n",
    "\n",
    "        print(\"Iteration %d: Complete!\\n\" % (i+1))\n",
    "\n",
    "    quantile84_NN_results_beta = np.array(quantile84_NN_results_beta)\n",
    "    \n",
    "    print(\"Next, learn the 16% quantile\")\n",
    "    quantile16_NN_results_beta = []\n",
    "\n",
    "    for i in range(n_takes):\n",
    "\n",
    "        print(\"Iteration %d: Starting...\" % (i+1))\n",
    "\n",
    "        quantile16_NN = Sequential([\n",
    "            Dense(50, input_shape=(2,)),\n",
    "            PReLU(),\n",
    "            Dense(1)\n",
    "        ])\n",
    "        quantile16_cp = ModelCheckpoint(\"./NN_weights/muon_quantile16_NN_n%d_beta.hdf5\" % (i+1),\n",
    "                                  monitor='loss',\n",
    "                                  verbose=False,\n",
    "                                  save_best_only=True,\n",
    "                                  mode='min')\n",
    "        quantile16_NN.compile(optimizer='adam',\n",
    "                        loss=lambda y_true, y_pred: GAE(y_true, y_pred, q = 0.16))\n",
    "\n",
    "        print(\"Iteration %d: Training...\" % (i+1))\n",
    "\n",
    "        quantile16_NN_history = quantile16_NN.fit(scale(x_data_beta, x_loc_beta, x_scale_beta),\n",
    "                                      scale(y_data_beta, y_loc_beta, y_scale_beta),\n",
    "                                      epochs=n_epochs, batch_size=int(N_data/20),\n",
    "                                      callbacks=[quantile16_cp],\n",
    "                                      verbose=False)\n",
    "\n",
    "        print(\"Iteration %d: Evaluating...\" % (i+1))\n",
    "\n",
    "        quantile16_NN.load_weights(\"./NN_weights/muon_quantile16_NN_n%d_beta.hdf5\" % (i+1))\n",
    "\n",
    "        quantile16_NN_results_beta.append(back_scale(quantile16_NN.predict(scale(np.vstack((x2_range, x2_range**3)).T, x_loc_beta, x_scale_beta)), y_loc_beta, y_scale_beta).flatten())\n",
    "\n",
    "        print(\"Iteration %d: Complete!\\n\" % (i+1))\n",
    "\n",
    "    quantile16_NN_results_beta = np.array(quantile16_NN_results_beta)\n",
    "    \n",
    "    interquantile68_beta = 0.5*(quantile16_NN_results_beta - quantile84_NN_results_beta)\n",
    "    print(be,np.mean(np.median(interquantile68_beta, axis=0).flatten()/mysigma(x2_range)))\n",
    "    print(be,np.std((y_data_forstd_beta-1)/mu(x_data_forstd_beta)))\n",
    "    std_vals+=[np.std((y_data_forstd_beta-1)/mu(x_data_forstd_beta))]\n",
    "    iqr_vals+=[np.mean(np.median(interquantile68_beta, axis=0).flatten()/mysigma(x2_range))]\n",
    "    pass"
   ]
  },
  {
   "cell_type": "code",
   "execution_count": 531,
   "metadata": {},
   "outputs": [
    {
     "data": {
      "image/png": "[encoded data removed]",
      "text/plain": [
       "<matplotlib.figure.Figure at 0x18860f048>"
      ]
     },
     "metadata": {},
     "output_type": "display_data"
    }
   ],
   "source": [
    "#plt.plot(np.linspace(2,4,10),std_vals)\n",
    "#plt.plot(np.linspace(2,4,10),IQRs,label=\"68% IQR\")\n",
    "plt.plot(np.linspace(2,4,10),std_vals,label=\"Sample Standard Deviation\",color=mpl_color[3])\n",
    "plt.plot(np.linspace(2,4,10),iqr_vals,label=\"IQR Learning\",color=mpl_color[2])\n",
    "plt.plot(np.linspace(2,4,10),np.ones(len(np.linspace(2,4,10))),color='gray',linestyle=\":\")\n",
    "plt.xlabel(r'Crystal Ball $\\beta$ value')\n",
    "plt.yscale(\"log\")\n",
    "plt.ylabel('Measure of spread / $\\sigma(x)$')\n",
    "plt.legend()\n",
    "plt.savefig(\"./fig/muon_momentum_resolution_betascan.png\",bbox_inches=\"tight\", dpi=400)\n",
    "plt.savefig(\"./fig/muon_momentum_resolution_betascan.pdf\",bbox_inches=\"tight\")"
   ]
  },
  {
   "cell_type": "code",
   "execution_count": null,
   "metadata": {},
   "outputs": [],
   "source": []
  }
 ],
 "metadata": {
  "kernelspec": {
   "display_name": "Python 3",
   "language": "python",
   "name": "python3"
  },
  "language_info": {
   "codemirror_mode": {
    "name": "ipython",
    "version": 3
   },
   "file_extension": ".py",
   "mimetype": "text/x-python",
   "name": "python",
   "nbconvert_exporter": "python",
   "pygments_lexer": "ipython3",
   "version": "3.6.9"
  }
 },
 "nbformat": 4,
 "nbformat_minor": 2
}
